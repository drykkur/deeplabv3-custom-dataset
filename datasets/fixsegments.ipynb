{
 "cells": [
  {
   "cell_type": "code",
   "execution_count": 8,
   "metadata": {},
   "outputs": [],
   "source": [
    "from PIL import Image\n",
    "import colorsys\n",
    "import glob\n",
    "import os\n",
    "import numpy as np\n",
    "\n",
    "def get_labels():\n",
    "  return np.asarray([   (0, 0, 0),       # Background\n",
    "                        (250, 149, 10),   # hood\n",
    "                        (19, 98, 19),   # front door\n",
    "                        (249,249,10), # rear door\n",
    "                        (10,248,250), # frame\n",
    "                        (149,7,149), # rear quarter panel\n",
    "                        (11, 248, 7), # trunk lid\n",
    "                        (20,19,249), # fender\n",
    "                        (249,9,250)]#, # bumper\n",
    "                        #(255, 255, 255)]    # rest of car\n",
    "                        )\n",
    "\n",
    "def rgb_to_hsl(rgb):\n",
    "    r, g, b = rgb\n",
    "    h, l, s = colorsys.rgb_to_hls(r / 255.0, g / 255.0, b / 255.0)\n",
    "    return h, l, s\n",
    "\n",
    "def hsl_to_rgb(hsl):\n",
    "    h, l, s = hsl\n",
    "    r, g, b = colorsys.hls_to_rgb(h, l, s)\n",
    "    return int(r * 255), int(g * 255), int(b * 255)\n",
    "\n",
    "def closest_color(target_color, color_list):\n",
    "    target_hsl = rgb_to_hsl(target_color)\n",
    "    closest_distance = float('inf')\n",
    "    closest_color = hsl_to_rgb(target_hsl)\n",
    "\n",
    "    for color in color_list:\n",
    "        color_hsl = rgb_to_hsl(color)\n",
    "        distance = sum((a - b) ** 2 for a, b in zip(target_hsl, color_hsl)) ** 0.5\n",
    "\n",
    "        if distance < closest_distance and distance < 0.05:\n",
    "            closest_distance = distance\n",
    "            closest_color = color\n",
    "\n",
    "    return closest_color\n",
    "\n",
    "def change_similar_colors(image_path, color_list):\n",
    "    image = image_path.copy()\n",
    "    width, height = image.size\n",
    "\n",
    "    for x in range(width):\n",
    "        for y in range(height):\n",
    "            pixel = image.getpixel((x, y))\n",
    "            if pixel == (0,0,0):\n",
    "              continue\n",
    "            closest_color_pixel = closest_color(pixel, color_list)\n",
    "            image.putpixel((x, y), (closest_color_pixel[0],closest_color_pixel[1],closest_color_pixel[2]))\n",
    "\n",
    "    return image\n",
    "#modded = change_similar_colors(target, get_labels())"
   ]
  },
  {
   "cell_type": "code",
   "execution_count": 11,
   "metadata": {},
   "outputs": [],
   "source": [
    "file_list = os.path.join(os.path.join('data\\\\3seg', \"*.*\"))\n",
    "file_list = glob.glob(file_list)\n",
    "image_list = []\n",
    "for file in file_list:\n",
    "    tmp = Image.open(file)\n",
    "    modded = change_similar_colors(tmp, get_labels())\n",
    "    modded.save('data\\\\3segfix\\\\%s' % file.split(\"\\\\\")[-1])\n"
   ]
  }
 ],
 "metadata": {
  "kernelspec": {
   "display_name": "base",
   "language": "python",
   "name": "python3"
  },
  "language_info": {
   "codemirror_mode": {
    "name": "ipython",
    "version": 3
   },
   "file_extension": ".py",
   "mimetype": "text/x-python",
   "name": "python",
   "nbconvert_exporter": "python",
   "pygments_lexer": "ipython3",
   "version": "3.9.12"
  }
 },
 "nbformat": 4,
 "nbformat_minor": 2
}
