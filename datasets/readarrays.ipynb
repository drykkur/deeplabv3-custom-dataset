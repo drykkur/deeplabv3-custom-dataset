{
 "cells": [
  {
   "cell_type": "code",
   "execution_count": 1,
   "metadata": {},
   "outputs": [],
   "source": [
    "import numpy as np\n",
    "from PIL import Image\n",
    "import glob\n",
    "import os"
   ]
  },
  {
   "cell_type": "code",
   "execution_count": 20,
   "metadata": {},
   "outputs": [
    {
     "name": "stdout",
     "output_type": "stream",
     "text": [
      "photo_0001.npy\n",
      "photo_0002.npy\n",
      "photo_0003.npy\n",
      "photo_0004.npy\n",
      "photo_0005.npy\n",
      "photo_0006.npy\n",
      "photo_0007.npy\n",
      "photo_0008.npy\n",
      "photo_0009.npy\n",
      "photo_0010.npy\n",
      "photo_0011.npy\n",
      "photo_0012.npy\n",
      "photo_0013.npy\n",
      "photo_0014.npy\n",
      "photo_0015.npy\n",
      "photo_0016.npy\n",
      "photo_0017.npy\n",
      "photo_0018.npy\n",
      "photo_0019.npy\n",
      "photo_0020.npy\n",
      "photo_0021.npy\n",
      "photo_0022.npy\n",
      "photo_0023.npy\n",
      "photo_0024.npy\n",
      "photo_0025.npy\n",
      "photo_0026.npy\n",
      "photo_0027.npy\n",
      "photo_0028.npy\n",
      "photo_0029.npy\n",
      "photo_0030.npy\n"
     ]
    }
   ],
   "source": [
    "i = 0\n",
    "for file in os.listdir('arrays/'):\n",
    "    print(file)\n",
    "    test = np.load((os.path.join('arrays/',file)))\n",
    "    org_im = Image.fromarray(test[:,:,:3])\n",
    "    org_im = org_im.save(f'images/{i}.png')\n",
    "    bla = test\n",
    "    bla[bla[:,:,3] == 10] = np.array([250,149,10,10])\n",
    "    bla[bla[:,:,3] == 20] = np.array([19,98,19,20])\n",
    "    bla[bla[:,:,3] == 30] = np.array([249,249,10,30])\n",
    "    bla[bla[:,:,3] == 40] = np.array([10,248,250,40])\n",
    "    bla[bla[:,:,3] == 50] = np.array([149,7,149,50])\n",
    "    bla[bla[:,:,3] == 60] = np.array([11,248,7,60])\n",
    "    bla[bla[:,:,3] == 70] = np.array([20,19,249,70])\n",
    "    bla[bla[:,:,3] == 80] = np.array([249,9,250,80])\n",
    "    im = Image.fromarray(bla[:,:,:3])\n",
    "    im = im.save(f'images/seg{i}.png')\n",
    "    i+=1"
   ]
  }
 ],
 "metadata": {
  "kernelspec": {
   "display_name": "base",
   "language": "python",
   "name": "python3"
  },
  "language_info": {
   "codemirror_mode": {
    "name": "ipython",
    "version": 3
   },
   "file_extension": ".py",
   "mimetype": "text/x-python",
   "name": "python",
   "nbconvert_exporter": "python",
   "pygments_lexer": "ipython3",
   "version": "3.9.13"
  }
 },
 "nbformat": 4,
 "nbformat_minor": 2
}
